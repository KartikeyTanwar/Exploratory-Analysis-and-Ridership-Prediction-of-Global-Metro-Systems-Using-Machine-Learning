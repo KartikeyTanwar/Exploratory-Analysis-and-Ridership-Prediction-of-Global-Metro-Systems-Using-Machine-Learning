{
 "cells": [
  {
   "cell_type": "code",
   "execution_count": 1,
   "id": "40de48f9",
   "metadata": {},
   "outputs": [
    {
     "name": "stdout",
     "output_type": "stream",
     "text": [
      "Requirement already satisfied: osmnx in c:\\users\\karti\\anaconda3\\lib\\site-packages (2.0.2)\n",
      "Requirement already satisfied: geopandas in c:\\users\\karti\\anaconda3\\lib\\site-packages (1.0.1)\n",
      "Requirement already satisfied: pandas in c:\\users\\karti\\anaconda3\\lib\\site-packages (2.1.4)\n",
      "Requirement already satisfied: folium in c:\\users\\karti\\anaconda3\\lib\\site-packages (0.19.5)\n",
      "Requirement already satisfied: openpyxl in c:\\users\\karti\\anaconda3\\lib\\site-packages (3.0.10)\n",
      "Requirement already satisfied: networkx>=2.5 in c:\\users\\karti\\anaconda3\\lib\\site-packages (from osmnx) (3.1)\n",
      "Requirement already satisfied: numpy>=1.22 in c:\\users\\karti\\anaconda3\\lib\\site-packages (from osmnx) (1.26.4)\n",
      "Requirement already satisfied: requests>=2.27 in c:\\users\\karti\\anaconda3\\lib\\site-packages (from osmnx) (2.32.3)\n",
      "Requirement already satisfied: shapely>=2.0 in c:\\users\\karti\\anaconda3\\lib\\site-packages (from osmnx) (2.0.7)\n",
      "Requirement already satisfied: pyogrio>=0.7.2 in c:\\users\\karti\\anaconda3\\lib\\site-packages (from geopandas) (0.10.0)\n",
      "Requirement already satisfied: packaging in c:\\users\\karti\\anaconda3\\lib\\site-packages (from geopandas) (23.1)\n",
      "Requirement already satisfied: pyproj>=3.3.0 in c:\\users\\karti\\anaconda3\\lib\\site-packages (from geopandas) (3.7.1)\n",
      "Requirement already satisfied: python-dateutil>=2.8.2 in c:\\users\\karti\\anaconda3\\lib\\site-packages (from pandas) (2.8.2)\n",
      "Requirement already satisfied: pytz>=2020.1 in c:\\users\\karti\\anaconda3\\lib\\site-packages (from pandas) (2023.3.post1)\n",
      "Requirement already satisfied: tzdata>=2022.1 in c:\\users\\karti\\anaconda3\\lib\\site-packages (from pandas) (2023.3)\n",
      "Requirement already satisfied: branca>=0.6.0 in c:\\users\\karti\\anaconda3\\lib\\site-packages (from folium) (0.8.1)\n",
      "Requirement already satisfied: jinja2>=2.9 in c:\\users\\karti\\anaconda3\\lib\\site-packages (from folium) (3.1.3)\n",
      "Requirement already satisfied: xyzservices in c:\\users\\karti\\anaconda3\\lib\\site-packages (from folium) (2022.9.0)\n",
      "Requirement already satisfied: et_xmlfile in c:\\users\\karti\\anaconda3\\lib\\site-packages (from openpyxl) (1.1.0)\n",
      "Requirement already satisfied: MarkupSafe>=2.0 in c:\\users\\karti\\anaconda3\\lib\\site-packages (from jinja2>=2.9->folium) (2.1.3)\n",
      "Requirement already satisfied: certifi in c:\\users\\karti\\anaconda3\\lib\\site-packages (from pyogrio>=0.7.2->geopandas) (2024.8.30)\n",
      "Requirement already satisfied: six>=1.5 in c:\\users\\karti\\anaconda3\\lib\\site-packages (from python-dateutil>=2.8.2->pandas) (1.16.0)\n",
      "Requirement already satisfied: charset-normalizer<4,>=2 in c:\\users\\karti\\anaconda3\\lib\\site-packages (from requests>=2.27->osmnx) (2.0.4)\n",
      "Requirement already satisfied: idna<4,>=2.5 in c:\\users\\karti\\anaconda3\\lib\\site-packages (from requests>=2.27->osmnx) (3.4)\n",
      "Requirement already satisfied: urllib3<3,>=1.21.1 in c:\\users\\karti\\anaconda3\\lib\\site-packages (from requests>=2.27->osmnx) (2.0.7)\n",
      "Note: you may need to restart the kernel to use updated packages.\n"
     ]
    }
   ],
   "source": [
    "pip install osmnx geopandas pandas folium openpyxl\n"
   ]
  },
  {
   "cell_type": "code",
   "execution_count": 7,
   "id": "17fe8ee9",
   "metadata": {},
   "outputs": [
    {
     "name": "stdout",
     "output_type": "stream",
     "text": [
      "🔍 Processing: Algiers, Algeria\n",
      "🔍 Processing: Buenos Aires, Argentina\n",
      "🔍 Processing: Yerevan, Armenia\n",
      "🔍 Processing: Sydney, Australia\n",
      "🔍 Processing: Vienna, Austria\n",
      "🔍 Processing: Baku, Azerbaijan\n",
      "🔍 Processing: Dhaka, Bangladesh\n"
     ]
    },
    {
     "name": "stderr",
     "output_type": "stream",
     "text": [
      "C:\\Users\\karti\\anaconda3\\Lib\\site-packages\\osmnx\\_overpass.py:267: UserWarning: This area is 11 times your configured Overpass max query area size. It will automatically be divided up into multiple sub-queries accordingly. This may take a long time.\n",
      "  multi_poly_proj = utils_geo._consolidate_subdivide_geometry(poly_proj)\n"
     ]
    },
    {
     "name": "stdout",
     "output_type": "stream",
     "text": [
      "🔍 Processing: Minsk, Belarus\n",
      "🔍 Processing: Brussels, Belgium\n",
      "🔍 Processing: Belo Horizonte, Brazil\n",
      "🔍 Processing: BrasÃ­lia, Brazil\n",
      "❌ Failed to fetch for BrasÃ­lia, Brazil: Nominatim geocoder returned 0 results for query 'BrasÃ\\xadlia, Brazil'.\n",
      "🔍 Processing: Fortaleza, Brazil\n",
      "🔍 Processing: Porto Alegre, Brazil\n",
      "🔍 Processing: Recife, Brazil\n",
      "🔍 Processing: Rio de Janeiro, Brazil\n",
      "🔍 Processing: Salvador, Brazil\n",
      "🔍 Processing: SÃ£o Paulo, Brazil\n",
      "❌ Failed to fetch for SÃ£o Paulo, Brazil: Nominatim geocoder returned 0 results for query 'SÃ£o Paulo, Brazil'.\n",
      "🔍 Processing: Sofia, Bulgaria\n",
      "🔍 Processing: Montreal, Canada\n",
      "🔍 Processing: Toronto, Canada\n",
      "🔍 Processing: Vancouver, Canada\n",
      "🔍 Processing: Santiago, Chile\n",
      "🔍 Processing: Beijing, China\n"
     ]
    },
    {
     "name": "stderr",
     "output_type": "stream",
     "text": [
      "C:\\Users\\karti\\anaconda3\\Lib\\site-packages\\osmnx\\_overpass.py:267: UserWarning: This area is 11 times your configured Overpass max query area size. It will automatically be divided up into multiple sub-queries accordingly. This may take a long time.\n",
      "  multi_poly_proj = utils_geo._consolidate_subdivide_geometry(poly_proj)\n"
     ]
    },
    {
     "name": "stdout",
     "output_type": "stream",
     "text": [
      "🔍 Processing: Changchun, China\n"
     ]
    },
    {
     "name": "stderr",
     "output_type": "stream",
     "text": [
      "C:\\Users\\karti\\anaconda3\\Lib\\site-packages\\osmnx\\_overpass.py:267: UserWarning: This area is 14 times your configured Overpass max query area size. It will automatically be divided up into multiple sub-queries accordingly. This may take a long time.\n",
      "  multi_poly_proj = utils_geo._consolidate_subdivide_geometry(poly_proj)\n"
     ]
    },
    {
     "name": "stdout",
     "output_type": "stream",
     "text": [
      "🔍 Processing: Changsha, China\n",
      "🔍 Processing: Changzhou, China\n",
      "🔍 Processing: Chengdu, China\n",
      "🔍 Processing: Chongqing, China\n"
     ]
    },
    {
     "name": "stderr",
     "output_type": "stream",
     "text": [
      "C:\\Users\\karti\\anaconda3\\Lib\\site-packages\\osmnx\\_overpass.py:267: UserWarning: This area is 55 times your configured Overpass max query area size. It will automatically be divided up into multiple sub-queries accordingly. This may take a long time.\n",
      "  multi_poly_proj = utils_geo._consolidate_subdivide_geometry(poly_proj)\n"
     ]
    },
    {
     "name": "stdout",
     "output_type": "stream",
     "text": [
      "🔍 Processing: Dalian, China\n"
     ]
    },
    {
     "name": "stderr",
     "output_type": "stream",
     "text": [
      "C:\\Users\\karti\\anaconda3\\Lib\\site-packages\\osmnx\\_overpass.py:267: UserWarning: This area is 11 times your configured Overpass max query area size. It will automatically be divided up into multiple sub-queries accordingly. This may take a long time.\n",
      "  multi_poly_proj = utils_geo._consolidate_subdivide_geometry(poly_proj)\n"
     ]
    },
    {
     "name": "stdout",
     "output_type": "stream",
     "text": [
      "🔍 Processing: Dongguan, China\n",
      "🔍 Processing: Foshan, China\n",
      "🔍 Processing: Fuzhou, China\n",
      "🔍 Processing: Guangzhou, China\n",
      "🔍 Processing: Guiyang, China\n",
      "🔍 Processing: Hangzhou, China\n",
      "🔍 Processing: Harbin, China\n"
     ]
    },
    {
     "name": "stderr",
     "output_type": "stream",
     "text": [
      "C:\\Users\\karti\\anaconda3\\Lib\\site-packages\\osmnx\\_overpass.py:267: UserWarning: This area is 26 times your configured Overpass max query area size. It will automatically be divided up into multiple sub-queries accordingly. This may take a long time.\n",
      "  multi_poly_proj = utils_geo._consolidate_subdivide_geometry(poly_proj)\n"
     ]
    },
    {
     "name": "stdout",
     "output_type": "stream",
     "text": [
      "🔍 Processing: Hefei, China\n",
      "🔍 Processing: Hohhot, China\n",
      "🔍 Processing: Hong Kong, China\n",
      "🔍 Processing: Jinan, China\n",
      "🔍 Processing: Jinhua, China\n",
      "🔍 Processing: Kunming, China\n"
     ]
    },
    {
     "name": "stderr",
     "output_type": "stream",
     "text": [
      "C:\\Users\\karti\\anaconda3\\Lib\\site-packages\\osmnx\\_overpass.py:267: UserWarning: This area is 11 times your configured Overpass max query area size. It will automatically be divided up into multiple sub-queries accordingly. This may take a long time.\n",
      "  multi_poly_proj = utils_geo._consolidate_subdivide_geometry(poly_proj)\n"
     ]
    },
    {
     "name": "stdout",
     "output_type": "stream",
     "text": [
      "🔍 Processing: Lanzhou, China\n",
      "🔍 Processing: Luoyang, China\n",
      "🔍 Processing: Macau, China\n",
      "🔍 Processing: Nanchang, China\n",
      "🔍 Processing: Nanjing, China\n",
      "🔍 Processing: Nanning, China\n"
     ]
    },
    {
     "name": "stderr",
     "output_type": "stream",
     "text": [
      "C:\\Users\\karti\\anaconda3\\Lib\\site-packages\\osmnx\\_overpass.py:267: UserWarning: This area is 11 times your configured Overpass max query area size. It will automatically be divided up into multiple sub-queries accordingly. This may take a long time.\n",
      "  multi_poly_proj = utils_geo._consolidate_subdivide_geometry(poly_proj)\n"
     ]
    },
    {
     "name": "stdout",
     "output_type": "stream",
     "text": [
      "🔍 Processing: Nantong, China\n",
      "🔍 Processing: Ningbo, China\n",
      "🔍 Processing: Qingdao, China\n",
      "🔍 Processing: Shanghai, China\n"
     ]
    },
    {
     "name": "stderr",
     "output_type": "stream",
     "text": [
      "C:\\Users\\karti\\anaconda3\\Lib\\site-packages\\osmnx\\_overpass.py:267: UserWarning: This area is 28 times your configured Overpass max query area size. It will automatically be divided up into multiple sub-queries accordingly. This may take a long time.\n",
      "  multi_poly_proj = utils_geo._consolidate_subdivide_geometry(poly_proj)\n"
     ]
    },
    {
     "name": "stdout",
     "output_type": "stream",
     "text": [
      "🔍 Processing: Shaoxing, China\n",
      "🔍 Processing: Shenyang, China\n",
      "🔍 Processing: Shenzhen, China\n",
      "🔍 Processing: Shijiazhuang, China\n",
      "🔍 Processing: Suzhou, China\n",
      "🔍 Processing: Taiyuan, China\n",
      "🔍 Processing: Taizhou, China\n",
      "🔍 Processing: Tianjin, China\n"
     ]
    },
    {
     "name": "stderr",
     "output_type": "stream",
     "text": [
      "C:\\Users\\karti\\anaconda3\\Lib\\site-packages\\osmnx\\_overpass.py:267: UserWarning: This area is 17 times your configured Overpass max query area size. It will automatically be divided up into multiple sub-queries accordingly. This may take a long time.\n",
      "  multi_poly_proj = utils_geo._consolidate_subdivide_geometry(poly_proj)\n"
     ]
    },
    {
     "name": "stdout",
     "output_type": "stream",
     "text": [
      "🔍 Processing: ÃœrÃ¼mqi, China\n",
      "❌ Failed to fetch for ÃœrÃ¼mqi, China: Nominatim geocoder returned 0 results for query 'ÃœrÃ¼mqi, China'.\n",
      "🔍 Processing: Wenzhou, China\n",
      "🔍 Processing: Wuhan, China\n",
      "🔍 Processing: Wuhu, China\n",
      "🔍 Processing: Wuxi, China\n",
      "🔍 Processing: Xiamen, China\n",
      "🔍 Processing: Xi'an, China\n",
      "🔍 Processing: Xuzhou, China\n",
      "🔍 Processing: Zhengzhou, China\n",
      "🔍 Processing: MedellÃ­n, Colombia\n",
      "❌ Failed to fetch for MedellÃ­n, Colombia: Nominatim geocoder returned 0 results for query 'MedellÃ\\xadn, Colombia'.\n",
      "🔍 Processing: Prague, Czech Republic\n",
      "🔍 Processing: Copenhagen, Denmark\n",
      "❌ Failed to fetch for Copenhagen, Denmark: No matching features. Check query location, tags, and log.\n",
      "🔍 Processing: Santo Domingo, Dominican Republic\n",
      "🔍 Processing: Quito, Ecuador\n",
      "🔍 Processing: Cairo, Egypt\n",
      "🔍 Processing: Helsinki, Finland\n",
      "🔍 Processing: Lille, France\n",
      "🔍 Processing: Lyon, France\n",
      "🔍 Processing: Marseille, France\n",
      "🔍 Processing: Paris, France\n",
      "🔍 Processing: Rennes, France\n",
      "🔍 Processing: Toulouse, France\n",
      "🔍 Processing: Tbilisi, Georgia\n",
      "🔍 Processing: Berlin, Germany\n",
      "🔍 Processing: Hamburg, Germany\n",
      "🔍 Processing: Munich, Germany\n",
      "🔍 Processing: Nuremberg, Germany\n",
      "🔍 Processing: Athens, Greece\n",
      "❌ Failed to fetch for Athens, Greece: Nominatim did not geocode query 'Athens, Greece' to a geometry of type (Multi)Polygon.\n",
      "🔍 Processing: Thessaloniki, Greece\n",
      "🔍 Processing: Budapest, Hungary\n",
      "🔍 Processing: Agra, India\n",
      "🔍 Processing: Ahmedabad, India\n",
      "🔍 Processing: Bengaluru, India\n",
      "🔍 Processing: Chennai, India\n",
      "🔍 Processing: Delhi, India\n",
      "🔍 Processing: Gurgaon, India\n",
      "🔍 Processing: Hyderabad, India\n",
      "🔍 Processing: Jaipur, India\n",
      "🔍 Processing: Kanpur, India\n",
      "🔍 Processing: Kochi, India\n",
      "🔍 Processing: Kolkata, India\n",
      "🔍 Processing: Lucknow, India\n",
      "🔍 Processing: Mumbai, India\n",
      "🔍 Processing: Nagpur, India\n",
      "🔍 Processing: Navi Mumbai, India\n",
      "🔍 Processing: Noida, India\n",
      "🔍 Processing: Pune, India\n",
      "🔍 Processing: Jakarta, Indonesia\n",
      "🔍 Processing: Jakarta LRT, Indonesia\n",
      "❌ Failed to fetch for Jakarta LRT, Indonesia: Nominatim did not geocode query 'Jakarta LRT, Indonesia' to a geometry of type (Multi)Polygon.\n",
      "🔍 Processing: Jabodebek LRT, Indonesia\n",
      "❌ Failed to fetch for Jabodebek LRT, Indonesia: Nominatim did not geocode query 'Jabodebek LRT, Indonesia' to a geometry of type (Multi)Polygon.\n",
      "🔍 Processing: Palembang, Palembang LRT\n",
      "❌ Failed to fetch for Palembang, Palembang LRT: Nominatim did not geocode query 'Palembang, Palembang LRT' to a geometry of type (Multi)Polygon.\n",
      "🔍 Processing: Isfahan, Iran\n",
      "🔍 Processing: Mashhad, Iran\n",
      "🔍 Processing: Shiraz, Iran\n",
      "🔍 Processing: Karaj, Iran\n",
      "🔍 Processing: Tabriz, Iran\n",
      "🔍 Processing: Tehran, Iran\n",
      "🔍 Processing: Brescia, Italy\n",
      "🔍 Processing: Catania, Italy\n",
      "🔍 Processing: Genoa, Italy\n",
      "🔍 Processing: Milan, Italy\n",
      "🔍 Processing: Naples, Italy\n",
      "🔍 Processing: Rome, Italy\n",
      "🔍 Processing: Turin, Italy\n",
      "🔍 Processing: Chiba Prefecture, Japan\n",
      "🔍 Processing: Fukuoka, Japan\n",
      "🔍 Processing: Hiroshima, Japan\n",
      "🔍 Processing: Kawaguchi, Japan\n",
      "🔍 Processing: Kobe, Japan\n",
      "🔍 Processing: Kyoto, Japan\n",
      "🔍 Processing: Nagoya, Japan\n",
      "🔍 Processing: Osaka, Japan\n",
      "🔍 Processing: Saitama, Japan\n",
      "🔍 Processing: Sapporo, Japan\n",
      "🔍 Processing: Sendai, Japan\n",
      "🔍 Processing: Tokyo, Japan\n"
     ]
    },
    {
     "name": "stderr",
     "output_type": "stream",
     "text": [
      "C:\\Users\\karti\\anaconda3\\Lib\\site-packages\\osmnx\\_overpass.py:267: UserWarning: This area is 650 times your configured Overpass max query area size. It will automatically be divided up into multiple sub-queries accordingly. This may take a long time.\n",
      "  multi_poly_proj = utils_geo._consolidate_subdivide_geometry(poly_proj)\n"
     ]
    },
    {
     "name": "stdout",
     "output_type": "stream",
     "text": [
      "❌ Failed to fetch for Tokyo, Japan: HTTPSConnectionPool(host='overpass-api.de', port=443): Read timed out. (read timeout=180)\n",
      "🔍 Processing: Nippori-Toneri Liner, Japan\n",
      "🔍 Processing: Yurikamome, Japan\n",
      "❌ Failed to fetch for Yurikamome, Japan: No matching features. Check query location, tags, and log.\n",
      "🔍 Processing: Tokyo Metro, Japan\n",
      "❌ Failed to fetch for Tokyo Metro, Japan: No matching features. Check query location, tags, and log.\n",
      "🔍 Processing: Rinkai Line, Japan\n",
      "❌ Failed to fetch for Rinkai Line, Japan: Nominatim did not geocode query 'Rinkai Line, Japan' to a geometry of type (Multi)Polygon.\n",
      "🔍 Processing: Yokohama, Japan\n",
      "🔍 Processing: Minatomirai Line, Japan\n",
      "❌ Failed to fetch for Minatomirai Line, Japan: Nominatim did not geocode query 'Minatomirai Line, Japan' to a geometry of type (Multi)Polygon.\n",
      "🔍 Processing: Kanazawa Seaside Line, Japan\n",
      "❌ Failed to fetch for Kanazawa Seaside Line, Japan: Nominatim did not geocode query 'Kanazawa Seaside Line, Japan' to a geometry of type (Multi)Polygon.\n",
      "🔍 Processing: Almaty, Kazakhstan\n",
      "🔍 Processing: Pyongyang, North Korea\n",
      "🔍 Processing: Busan, South Korea\n",
      "🔍 Processing: Daegu, South Korea\n",
      "🔍 Processing: Daejeon, South Korea\n",
      "🔍 Processing: Gimpo, South Korea\n",
      "🔍 Processing: Gwangju, South Korea\n",
      "🔍 Processing: Incheon, South Korea\n",
      "🔍 Processing: Seoul, South Korea\n",
      "🔍 Processing: Kuala Lumpur, Malaysia\n",
      "🔍 Processing: Guadalajara, Mexico\n",
      "🔍 Processing: Mexico City, Mexico\n",
      "🔍 Processing: Monterrey, Metrorrey\n",
      "❌ Failed to fetch for Monterrey, Metrorrey: Nominatim did not geocode query 'Monterrey, Metrorrey' to a geometry of type (Multi)Polygon.\n",
      "🔍 Processing: Amsterdam, Netherlands\n",
      "🔍 Processing: Rotterdam, Rotterdam Metro\n",
      "❌ Failed to fetch for Rotterdam, Rotterdam Metro: Nominatim geocoder returned 0 results for query 'Rotterdam, Rotterdam Metro'.\n",
      "🔍 Processing: Lagos, Nigeria\n",
      "🔍 Processing: Oslo, Norway\n",
      "🔍 Processing: Lahore, Pakistan\n",
      "❌ Failed to fetch for Lahore, Pakistan: Nominatim did not geocode query 'Lahore, Pakistan' to a geometry of type (Multi)Polygon.\n",
      "🔍 Processing: Panama City, Panama\n",
      "❌ Failed to fetch for Panama City, Panama: Nominatim did not geocode query 'Panama City, Panama' to a geometry of type (Multi)Polygon.\n",
      "🔍 Processing: Lima, Peru\n"
     ]
    },
    {
     "name": "stderr",
     "output_type": "stream",
     "text": [
      "C:\\Users\\karti\\anaconda3\\Lib\\site-packages\\osmnx\\_overpass.py:267: UserWarning: This area is 17 times your configured Overpass max query area size. It will automatically be divided up into multiple sub-queries accordingly. This may take a long time.\n",
      "  multi_poly_proj = utils_geo._consolidate_subdivide_geometry(poly_proj)\n"
     ]
    },
    {
     "name": "stdout",
     "output_type": "stream",
     "text": [
      "🔍 Processing: Manila, Philippines\n",
      "🔍 Processing: Warsaw, Poland\n",
      "🔍 Processing: Lisbon, Portugal\n",
      "🔍 Processing: Doha, Qatar\n",
      "🔍 Processing: Bucharest, Romania\n",
      "🔍 Processing: Kazan, Russia\n",
      "🔍 Processing: Moscow, Russia\n",
      "🔍 Processing: Nizhny Novgorod, Russia\n",
      "🔍 Processing: Novosibirsk, Russia\n",
      "🔍 Processing: Saint Petersburg, Russia\n",
      "🔍 Processing: Samara, Russia\n",
      "🔍 Processing: Yekaterinburg, Russia\n",
      "🔍 Processing: Riyadh, Saudi Arabia\n"
     ]
    },
    {
     "name": "stderr",
     "output_type": "stream",
     "text": [
      "C:\\Users\\karti\\anaconda3\\Lib\\site-packages\\osmnx\\_overpass.py:267: UserWarning: This area is 179 times your configured Overpass max query area size. It will automatically be divided up into multiple sub-queries accordingly. This may take a long time.\n",
      "  multi_poly_proj = utils_geo._consolidate_subdivide_geometry(poly_proj)\n"
     ]
    },
    {
     "name": "stdout",
     "output_type": "stream",
     "text": [
      "❌ Failed to fetch for Riyadh, Saudi Arabia: HTTPSConnectionPool(host='overpass-api.de', port=443): Read timed out. (read timeout=180)\n",
      "🔍 Processing: Singapore, Singapore\n",
      "🔍 Processing: Barcelona, Spain\n",
      "🔍 Processing: Bilbao, Spain\n",
      "🔍 Processing: Madrid, Spain\n",
      "🔍 Processing: Stockholm, Sweden\n",
      "🔍 Processing: Lausanne, Switzerland\n",
      "🔍 Processing: Kaohsiung, Taiwan\n"
     ]
    },
    {
     "name": "stderr",
     "output_type": "stream",
     "text": [
      "C:\\Users\\karti\\anaconda3\\Lib\\site-packages\\osmnx\\_overpass.py:267: UserWarning: This area is 98 times your configured Overpass max query area size. It will automatically be divided up into multiple sub-queries accordingly. This may take a long time.\n",
      "  multi_poly_proj = utils_geo._consolidate_subdivide_geometry(poly_proj)\n"
     ]
    },
    {
     "name": "stdout",
     "output_type": "stream",
     "text": [
      "❌ Failed to fetch for Kaohsiung, Taiwan: HTTPSConnectionPool(host='overpass-api.de', port=443): Read timed out. (read timeout=180)\n",
      "🔍 Processing: Taipei, Taiwan\n",
      "🔍 Processing: Taichung, Taiwan\n",
      "🔍 Processing: Taoyuan, Taiwan\n",
      "🔍 Processing: Bangkok, Thailand\n",
      "🔍 Processing: Adana, Turkey\n",
      "🔍 Processing: Ankara, Turkey\n"
     ]
    },
    {
     "name": "stderr",
     "output_type": "stream",
     "text": [
      "C:\\Users\\karti\\anaconda3\\Lib\\site-packages\\osmnx\\_overpass.py:267: UserWarning: This area is 16 times your configured Overpass max query area size. It will automatically be divided up into multiple sub-queries accordingly. This may take a long time.\n",
      "  multi_poly_proj = utils_geo._consolidate_subdivide_geometry(poly_proj)\n"
     ]
    },
    {
     "name": "stdout",
     "output_type": "stream",
     "text": [
      "🔍 Processing: Bursa, Turkey\n",
      "🔍 Processing: Istanbul, Turkey\n",
      "🔍 Processing: Ä°zmir, Turkey\n",
      "❌ Failed to fetch for Ä°zmir, Turkey: Nominatim geocoder returned 0 results for query 'Ä°zmir, Turkey'.\n",
      "🔍 Processing: Dnipro, Ukraine\n",
      "🔍 Processing: Kharkiv, Ukraine\n",
      "🔍 Processing: Kyiv, Ukraine\n",
      "🔍 Processing: Dubai, United Arab Emirates\n",
      "🔍 Processing: Glasgow, United Kingdom\n",
      "❌ Failed to fetch for Glasgow, United Kingdom: Nominatim did not geocode query 'Glasgow, United Kingdom' to a geometry of type (Multi)Polygon.\n",
      "🔍 Processing: London, United Kingdom\n",
      "🔍 Processing: Atlanta, United States\n",
      "🔍 Processing: Baltimore, United States\n",
      "🔍 Processing: Boston, United States\n",
      "🔍 Processing: Chicago, United States\n",
      "🔍 Processing: Cleveland, United States\n",
      "🔍 Processing: Honolulu, United States\n",
      "🔍 Processing: Los Angeles, United States\n",
      "🔍 Processing: Miami, United States\n",
      "🔍 Processing: New York City, United States\n",
      "🔍 Processing: Philadelphia, United States\n",
      "🔍 Processing: San Francisco(Bay Area), United States\n",
      "❌ Failed to fetch for San Francisco(Bay Area), United States: Nominatim did not geocode query 'San Francisco(Bay Area), United States' to a geometry of type (Multi)Polygon.\n",
      "🔍 Processing: Washington, D.C., United States\n",
      "🔍 Processing: San Juan, United States\n",
      "🔍 Processing: Tashkent, Uzbekistan\n",
      "🔍 Processing: Caracas, Venezuela\n",
      "🔍 Processing: Valencia, Venezuela\n",
      "❌ Failed to fetch for Valencia, Venezuela: Nominatim did not geocode query 'Valencia, Venezuela' to a geometry of type (Multi)Polygon.\n",
      "🔍 Processing: Hanoi, Vietnam\n",
      "🔍 Processing: Ho Chi Minh City, Vietnam\n",
      "✅ Collected 21848 metro stations from 190 cities.\n",
      "❗Failed to fetch metro data for 26 cities.\n"
     ]
    },
    {
     "name": "stderr",
     "output_type": "stream",
     "text": [
      "C:\\Users\\karti\\AppData\\Local\\Temp\\ipykernel_22180\\2226855842.py:54: ShapelyDeprecationWarning: The 'type' attribute is deprecated, and will be removed in the future. You can use the 'geom_type' attribute instead.\n",
      "  if row.geometry.type == \"Point\":\n"
     ]
    },
    {
     "name": "stdout",
     "output_type": "stream",
     "text": [
      "🌐 Map and data saved successfully.\n"
     ]
    }
   ],
   "source": [
    "import osmnx as ox\n",
    "import geopandas as gpd\n",
    "import pandas as pd\n",
    "import folium\n",
    "import time\n",
    "\n",
    "# Load cities from Excel\n",
    "df = pd.read_excel(\"metro_systems.xlsx\")  # columns: City, Country\n",
    "df = df.dropna(subset=[\"City\", \"Country\"])\n",
    "cities = df[\"City\"] + \", \" + df[\"Country\"]\n",
    "cities = cities.tolist()\n",
    "\n",
    "# Metro station-specific tags\n",
    "tags = {\n",
    "    \"railway\": \"station\",\n",
    "    \"station\": \"subway\"\n",
    "}\n",
    "\n",
    "# Function to fetch metro stations\n",
    "def get_metro_stations(city_name):\n",
    "    try:\n",
    "        gdf = ox.features_from_place(city_name, tags)\n",
    "        gdf = gdf[gdf.geometry.type == \"Point\"]  # Only keep point geometries\n",
    "        gdf[\"city\"] = city_name\n",
    "        return gdf\n",
    "    except Exception as e:\n",
    "        print(f\"❌ Failed to fetch for {city_name}: {e}\")\n",
    "        return gpd.GeoDataFrame()\n",
    "\n",
    "# Fetch metro stations for all cities\n",
    "all_stations = gpd.GeoDataFrame()\n",
    "failed = []\n",
    "\n",
    "for city in cities:\n",
    "    print(f\"🔍 Processing: {city}\")\n",
    "    gdf = get_metro_stations(city)\n",
    "    if gdf.empty:\n",
    "        failed.append(city)\n",
    "    else:\n",
    "        all_stations = pd.concat([all_stations, gdf], ignore_index=True)\n",
    "    time.sleep(1)  # pause to avoid API overload\n",
    "\n",
    "print(f\"✅ Collected {len(all_stations)} metro stations from {len(cities) - len(failed)} cities.\")\n",
    "if failed:\n",
    "    print(f\"❗Failed to fetch metro data for {len(failed)} cities.\")\n",
    "\n",
    "# Save data\n",
    "all_stations.to_file(\"global_metro_stations.geojson\", driver=\"GeoJSON\")\n",
    "\n",
    "# Plot on folium map\n",
    "m = folium.Map(location=[20, 0], zoom_start=2)\n",
    "\n",
    "for _, row in all_stations.iterrows():\n",
    "    if row.geometry.type == \"Point\":\n",
    "        lat, lon = row.geometry.y, row.geometry.x\n",
    "        name = row.get(\"name\", \"Unnamed\")\n",
    "        folium.CircleMarker(\n",
    "            location=[lat, lon],\n",
    "            radius=4,\n",
    "            popup=f\"{name} ({row['city']})\",\n",
    "            color=\"blue\",\n",
    "            fill=True,\n",
    "            fill_color=\"blue\",\n",
    "            fill_opacity=0.7\n",
    "        ).add_to(m)\n",
    "\n",
    "m.save(\"global_metro_map.html\")\n",
    "print(\"🌐 Map and data saved successfully.\")\n"
   ]
  },
  {
   "cell_type": "code",
   "execution_count": 5,
   "id": "14c16761",
   "metadata": {
    "scrolled": true
   },
   "outputs": [
    {
     "name": "stderr",
     "output_type": "stream",
     "text": [
      "C:\\Users\\karti\\AppData\\Local\\Temp\\ipykernel_22180\\1744000053.py:4: ShapelyDeprecationWarning: The 'type' attribute is deprecated, and will be removed in the future. You can use the 'geom_type' attribute instead.\n",
      "  if row.geometry.type == \"Point\":\n"
     ]
    },
    {
     "name": "stdout",
     "output_type": "stream",
     "text": [
      "✅ Map and data saved successfully.\n"
     ]
    }
   ],
   "source": []
  },
  {
   "cell_type": "code",
   "execution_count": null,
   "id": "efd0f59a",
   "metadata": {},
   "outputs": [],
   "source": []
  }
 ],
 "metadata": {
  "kernelspec": {
   "display_name": "Python 3 (ipykernel)",
   "language": "python",
   "name": "python3"
  },
  "language_info": {
   "codemirror_mode": {
    "name": "ipython",
    "version": 3
   },
   "file_extension": ".py",
   "mimetype": "text/x-python",
   "name": "python",
   "nbconvert_exporter": "python",
   "pygments_lexer": "ipython3",
   "version": "3.11.7"
  }
 },
 "nbformat": 4,
 "nbformat_minor": 5
}
